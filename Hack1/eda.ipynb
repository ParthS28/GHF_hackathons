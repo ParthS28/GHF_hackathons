{
 "cells": [
  {
   "cell_type": "code",
   "execution_count": 1,
   "id": "mineral-logan",
   "metadata": {},
   "outputs": [],
   "source": [
    "import pandas as pd\n",
    "import numpy as np\n",
    "import seaborn as sns\n",
    "import matplotlib.pyplot as plt\n",
    "from sklearn.preprocessing import LabelEncoder, StandardScaler\n",
    "from sklearn.model_selection import train_test_split\n",
    "import lightgbm as lgb"
   ]
  },
  {
   "cell_type": "code",
   "execution_count": 2,
   "id": "experienced-lightning",
   "metadata": {},
   "outputs": [],
   "source": [
    "train = pd.read_csv('Training Data.csv')\n",
    "test = pd.read_csv('Test Data.csv')"
   ]
  },
  {
   "cell_type": "code",
   "execution_count": 3,
   "id": "opened-aerospace",
   "metadata": {},
   "outputs": [
    {
     "data": {
      "text/plain": [
       "Index(['Id', 'income', 'age', 'experience', 'married', 'house_ownership',\n",
       "       'car_ownership', 'profession', 'city', 'state', 'current_job_years',\n",
       "       'current_house_years', 'risk_flag'],\n",
       "      dtype='object')"
      ]
     },
     "execution_count": 3,
     "metadata": {},
     "output_type": "execute_result"
    }
   ],
   "source": [
    "train.columns"
   ]
  },
  {
   "cell_type": "code",
   "execution_count": 4,
   "id": "configured-employer",
   "metadata": {},
   "outputs": [
    {
     "ename": "KeyboardInterrupt",
     "evalue": "",
     "output_type": "error",
     "traceback": [
      "\u001b[0;31m---------------------------------------------------------------------------\u001b[0m",
      "\u001b[0;31mKeyboardInterrupt\u001b[0m                         Traceback (most recent call last)",
      "\u001b[0;32m<ipython-input-4-f3e5bd4f0121>\u001b[0m in \u001b[0;36m<module>\u001b[0;34m\u001b[0m\n\u001b[1;32m      1\u001b[0m \u001b[0mprof\u001b[0m \u001b[0;34m=\u001b[0m \u001b[0mtrain\u001b[0m\u001b[0;34m.\u001b[0m\u001b[0mprofession\u001b[0m\u001b[0;34m.\u001b[0m\u001b[0munique\u001b[0m\u001b[0;34m(\u001b[0m\u001b[0;34m)\u001b[0m\u001b[0;34m\u001b[0m\u001b[0;34m\u001b[0m\u001b[0m\n\u001b[1;32m      2\u001b[0m \u001b[0mcount\u001b[0m \u001b[0;34m=\u001b[0m \u001b[0;34m{\u001b[0m\u001b[0;34m}\u001b[0m\u001b[0;34m\u001b[0m\u001b[0;34m\u001b[0m\u001b[0m\n\u001b[0;32m----> 3\u001b[0;31m \u001b[0;32mfor\u001b[0m \u001b[0mindex\u001b[0m\u001b[0;34m,\u001b[0m \u001b[0mrow\u001b[0m \u001b[0;32min\u001b[0m \u001b[0mtrain\u001b[0m\u001b[0;34m.\u001b[0m\u001b[0miterrows\u001b[0m\u001b[0;34m(\u001b[0m\u001b[0;34m)\u001b[0m\u001b[0;34m:\u001b[0m\u001b[0;34m\u001b[0m\u001b[0;34m\u001b[0m\u001b[0m\n\u001b[0m\u001b[1;32m      4\u001b[0m     \u001b[0mjob\u001b[0m \u001b[0;34m=\u001b[0m \u001b[0mtrain\u001b[0m\u001b[0;34m.\u001b[0m\u001b[0mloc\u001b[0m\u001b[0;34m[\u001b[0m\u001b[0mindex\u001b[0m\u001b[0;34m,\u001b[0m \u001b[0;34m'profession'\u001b[0m\u001b[0;34m]\u001b[0m\u001b[0;34m\u001b[0m\u001b[0;34m\u001b[0m\u001b[0m\n\u001b[1;32m      5\u001b[0m     \u001b[0;32mif\u001b[0m \u001b[0;32mnot\u001b[0m \u001b[0mjob\u001b[0m \u001b[0;32min\u001b[0m \u001b[0mcount\u001b[0m\u001b[0;34m:\u001b[0m\u001b[0;34m\u001b[0m\u001b[0;34m\u001b[0m\u001b[0m\n",
      "\u001b[0;32m~/.local/lib/python3.8/site-packages/pandas/core/frame.py\u001b[0m in \u001b[0;36miterrows\u001b[0;34m(self)\u001b[0m\n\u001b[1;32m   1069\u001b[0m         \u001b[0mklass\u001b[0m \u001b[0;34m=\u001b[0m \u001b[0mself\u001b[0m\u001b[0;34m.\u001b[0m\u001b[0m_constructor_sliced\u001b[0m\u001b[0;34m\u001b[0m\u001b[0;34m\u001b[0m\u001b[0m\n\u001b[1;32m   1070\u001b[0m         \u001b[0;32mfor\u001b[0m \u001b[0mk\u001b[0m\u001b[0;34m,\u001b[0m \u001b[0mv\u001b[0m \u001b[0;32min\u001b[0m \u001b[0mzip\u001b[0m\u001b[0;34m(\u001b[0m\u001b[0mself\u001b[0m\u001b[0;34m.\u001b[0m\u001b[0mindex\u001b[0m\u001b[0;34m,\u001b[0m \u001b[0mself\u001b[0m\u001b[0;34m.\u001b[0m\u001b[0mvalues\u001b[0m\u001b[0;34m)\u001b[0m\u001b[0;34m:\u001b[0m\u001b[0;34m\u001b[0m\u001b[0;34m\u001b[0m\u001b[0m\n\u001b[0;32m-> 1071\u001b[0;31m             \u001b[0ms\u001b[0m \u001b[0;34m=\u001b[0m \u001b[0mklass\u001b[0m\u001b[0;34m(\u001b[0m\u001b[0mv\u001b[0m\u001b[0;34m,\u001b[0m \u001b[0mindex\u001b[0m\u001b[0;34m=\u001b[0m\u001b[0mcolumns\u001b[0m\u001b[0;34m,\u001b[0m \u001b[0mname\u001b[0m\u001b[0;34m=\u001b[0m\u001b[0mk\u001b[0m\u001b[0;34m)\u001b[0m\u001b[0;34m\u001b[0m\u001b[0;34m\u001b[0m\u001b[0m\n\u001b[0m\u001b[1;32m   1072\u001b[0m             \u001b[0;32myield\u001b[0m \u001b[0mk\u001b[0m\u001b[0;34m,\u001b[0m \u001b[0ms\u001b[0m\u001b[0;34m\u001b[0m\u001b[0;34m\u001b[0m\u001b[0m\n\u001b[1;32m   1073\u001b[0m \u001b[0;34m\u001b[0m\u001b[0m\n",
      "\u001b[0;32m~/.local/lib/python3.8/site-packages/pandas/core/series.py\u001b[0m in \u001b[0;36m__init__\u001b[0;34m(self, data, index, dtype, name, copy, fastpath)\u001b[0m\n\u001b[1;32m    333\u001b[0m                     \u001b[0mdata\u001b[0m \u001b[0;34m=\u001b[0m \u001b[0mdata\u001b[0m\u001b[0;34m.\u001b[0m\u001b[0mcopy\u001b[0m\u001b[0;34m(\u001b[0m\u001b[0;34m)\u001b[0m\u001b[0;34m\u001b[0m\u001b[0;34m\u001b[0m\u001b[0m\n\u001b[1;32m    334\u001b[0m             \u001b[0;32melse\u001b[0m\u001b[0;34m:\u001b[0m\u001b[0;34m\u001b[0m\u001b[0;34m\u001b[0m\u001b[0m\n\u001b[0;32m--> 335\u001b[0;31m                 \u001b[0mdata\u001b[0m \u001b[0;34m=\u001b[0m \u001b[0msanitize_array\u001b[0m\u001b[0;34m(\u001b[0m\u001b[0mdata\u001b[0m\u001b[0;34m,\u001b[0m \u001b[0mindex\u001b[0m\u001b[0;34m,\u001b[0m \u001b[0mdtype\u001b[0m\u001b[0;34m,\u001b[0m \u001b[0mcopy\u001b[0m\u001b[0;34m,\u001b[0m \u001b[0mraise_cast_failure\u001b[0m\u001b[0;34m=\u001b[0m\u001b[0;32mTrue\u001b[0m\u001b[0;34m)\u001b[0m\u001b[0;34m\u001b[0m\u001b[0;34m\u001b[0m\u001b[0m\n\u001b[0m\u001b[1;32m    336\u001b[0m \u001b[0;34m\u001b[0m\u001b[0m\n\u001b[1;32m    337\u001b[0m                 \u001b[0mdata\u001b[0m \u001b[0;34m=\u001b[0m \u001b[0mSingleBlockManager\u001b[0m\u001b[0;34m.\u001b[0m\u001b[0mfrom_array\u001b[0m\u001b[0;34m(\u001b[0m\u001b[0mdata\u001b[0m\u001b[0;34m,\u001b[0m \u001b[0mindex\u001b[0m\u001b[0;34m)\u001b[0m\u001b[0;34m\u001b[0m\u001b[0;34m\u001b[0m\u001b[0m\n",
      "\u001b[0;32m~/.local/lib/python3.8/site-packages/pandas/core/construction.py\u001b[0m in \u001b[0;36msanitize_array\u001b[0;34m(data, index, dtype, copy, raise_cast_failure)\u001b[0m\n\u001b[1;32m    545\u001b[0m         \u001b[0mis_object_or_str_dtype\u001b[0m \u001b[0;34m=\u001b[0m \u001b[0mis_object_dtype\u001b[0m\u001b[0;34m(\u001b[0m\u001b[0mdtype\u001b[0m\u001b[0;34m)\u001b[0m \u001b[0;32mor\u001b[0m \u001b[0mis_string_dtype\u001b[0m\u001b[0;34m(\u001b[0m\u001b[0mdtype\u001b[0m\u001b[0;34m)\u001b[0m\u001b[0;34m\u001b[0m\u001b[0;34m\u001b[0m\u001b[0m\n\u001b[1;32m    546\u001b[0m         \u001b[0;32mif\u001b[0m \u001b[0mis_object_dtype\u001b[0m\u001b[0;34m(\u001b[0m\u001b[0msubarr\u001b[0m\u001b[0;34m.\u001b[0m\u001b[0mdtype\u001b[0m\u001b[0;34m)\u001b[0m \u001b[0;32mand\u001b[0m \u001b[0;32mnot\u001b[0m \u001b[0mis_object_or_str_dtype\u001b[0m\u001b[0;34m:\u001b[0m\u001b[0;34m\u001b[0m\u001b[0;34m\u001b[0m\u001b[0m\n\u001b[0;32m--> 547\u001b[0;31m             \u001b[0minferred\u001b[0m \u001b[0;34m=\u001b[0m \u001b[0mlib\u001b[0m\u001b[0;34m.\u001b[0m\u001b[0minfer_dtype\u001b[0m\u001b[0;34m(\u001b[0m\u001b[0msubarr\u001b[0m\u001b[0;34m,\u001b[0m \u001b[0mskipna\u001b[0m\u001b[0;34m=\u001b[0m\u001b[0;32mFalse\u001b[0m\u001b[0;34m)\u001b[0m\u001b[0;34m\u001b[0m\u001b[0;34m\u001b[0m\u001b[0m\n\u001b[0m\u001b[1;32m    548\u001b[0m             \u001b[0;32mif\u001b[0m \u001b[0minferred\u001b[0m \u001b[0;32min\u001b[0m \u001b[0;34m{\u001b[0m\u001b[0;34m\"interval\"\u001b[0m\u001b[0;34m,\u001b[0m \u001b[0;34m\"period\"\u001b[0m\u001b[0;34m}\u001b[0m\u001b[0;34m:\u001b[0m\u001b[0;34m\u001b[0m\u001b[0;34m\u001b[0m\u001b[0m\n\u001b[1;32m    549\u001b[0m                 \u001b[0msubarr\u001b[0m \u001b[0;34m=\u001b[0m \u001b[0marray\u001b[0m\u001b[0;34m(\u001b[0m\u001b[0msubarr\u001b[0m\u001b[0;34m)\u001b[0m\u001b[0;34m\u001b[0m\u001b[0;34m\u001b[0m\u001b[0m\n",
      "\u001b[0;31mKeyboardInterrupt\u001b[0m: "
     ]
    }
   ],
   "source": [
    "prof = train.profession.unique()\n",
    "count = {}\n",
    "for index, row in train.iterrows():\n",
    "    job = train.loc[index, 'profession']\n",
    "    if not job in count:\n",
    "        count[job] = 0\n",
    "    if train.loc[index, 'risk_flag'] == 1:\n",
    "        count[job] += 1\n",
    "count"
   ]
  },
  {
   "cell_type": "code",
   "execution_count": null,
   "id": "unique-india",
   "metadata": {},
   "outputs": [],
   "source": [
    "prof = train.profession.value_counts()\n",
    "prof = prof.to_dict()"
   ]
  },
  {
   "cell_type": "code",
   "execution_count": null,
   "id": "mechanical-emerald",
   "metadata": {},
   "outputs": [],
   "source": [
    "# count_norm = {}\n",
    "# for c in count:\n",
    "#     count_norm[c] = 0\n",
    "#     count_norm[c] = count[c]/prof[c]\n",
    "# count_norm"
   ]
  },
  {
   "cell_type": "code",
   "execution_count": 25,
   "id": "hungarian-benjamin",
   "metadata": {},
   "outputs": [
    {
     "data": {
      "text/html": [
       "<div>\n",
       "<style scoped>\n",
       "    .dataframe tbody tr th:only-of-type {\n",
       "        vertical-align: middle;\n",
       "    }\n",
       "\n",
       "    .dataframe tbody tr th {\n",
       "        vertical-align: top;\n",
       "    }\n",
       "\n",
       "    .dataframe thead th {\n",
       "        text-align: right;\n",
       "    }\n",
       "</style>\n",
       "<table border=\"1\" class=\"dataframe\">\n",
       "  <thead>\n",
       "    <tr style=\"text-align: right;\">\n",
       "      <th></th>\n",
       "      <th>job</th>\n",
       "      <th>total</th>\n",
       "      <th>flagged</th>\n",
       "    </tr>\n",
       "  </thead>\n",
       "  <tbody>\n",
       "    <tr>\n",
       "      <th>0</th>\n",
       "      <td>Mechanical_engineer</td>\n",
       "      <td>5217</td>\n",
       "      <td>582</td>\n",
       "    </tr>\n",
       "    <tr>\n",
       "      <th>1</th>\n",
       "      <td>Software_Developer</td>\n",
       "      <td>5053</td>\n",
       "      <td>750</td>\n",
       "    </tr>\n",
       "    <tr>\n",
       "      <th>2</th>\n",
       "      <td>Technical_writer</td>\n",
       "      <td>5195</td>\n",
       "      <td>697</td>\n",
       "    </tr>\n",
       "    <tr>\n",
       "      <th>3</th>\n",
       "      <td>Civil_servant</td>\n",
       "      <td>4413</td>\n",
       "      <td>511</td>\n",
       "    </tr>\n",
       "    <tr>\n",
       "      <th>4</th>\n",
       "      <td>Librarian</td>\n",
       "      <td>4628</td>\n",
       "      <td>521</td>\n",
       "    </tr>\n",
       "  </tbody>\n",
       "</table>\n",
       "</div>"
      ],
      "text/plain": [
       "                   job  total  flagged\n",
       "0  Mechanical_engineer   5217      582\n",
       "1   Software_Developer   5053      750\n",
       "2     Technical_writer   5195      697\n",
       "3        Civil_servant   4413      511\n",
       "4            Librarian   4628      521"
      ]
     },
     "execution_count": 25,
     "metadata": {},
     "output_type": "execute_result"
    }
   ],
   "source": [
    "sc = pd.DataFrame()\n",
    "sc['job'] = train.profession.unique()\n",
    "sc['total'] = sc['job'].map(prof)\n",
    "sc['flagged'] = sc['job'].map(count)\n",
    "sc.head()"
   ]
  },
  {
   "cell_type": "code",
   "execution_count": 33,
   "id": "turkish-penalty",
   "metadata": {},
   "outputs": [
    {
     "data": {
      "image/png": "[encoded data removed]",
      "text/plain": [
       "<Figure size 432x288 with 1 Axes>"
      ]
     },
     "metadata": {
      "needs_background": "light"
     },
     "output_type": "display_data"
    }
   ],
   "source": [
    "plt.scatter(sc['total'], sc['flagged'])\n",
    "for index, row in sc.iterrows():\n",
    "    plt.text(x = sc.loc[index, 'total']+5, y = sc.loc[index, 'flagged']+5, s = sc.loc[index, 'job'], fontdict=dict(size=8))\n",
    "plt.show()"
   ]
  },
  {
   "cell_type": "code",
   "execution_count": 31,
   "id": "blind-plumbing",
   "metadata": {},
   "outputs": [
    {
     "name": "stdout",
     "output_type": "stream",
     "text": [
      "Flight attendant\n",
      "Petroleum Engineer\n",
      "Chartered Accountant\n",
      "Web designer\n",
      "Financial Analyst\n",
      "Software Developer\n",
      "Graphic Designer\n",
      "Army officer\n",
      "Civil servant\n",
      "Chemical engineer\n",
      "Air traffic controller\n",
      "Civil engineer\n",
      "Industrial Engineer\n",
      "Hotel Manager\n",
      "Mechanical engineer\n",
      "Computer operator\n",
      "Technical writer\n",
      "Technology specialist\n",
      "Biomedical Engineer\n",
      "Design Engineer\n",
      "Computer hardware engineer\n",
      "Fashion Designer\n",
      "Police officer\n"
     ]
    }
   ],
   "source": [
    "for p in test.profession.unique():\n",
    "    if p not in train.profession.unique():\n",
    "        print(p)"
   ]
  },
  {
   "cell_type": "code",
   "execution_count": 32,
   "id": "missing-institution",
   "metadata": {},
   "outputs": [
    {
     "data": {
      "text/plain": [
       "array(['Mechanical_engineer', 'Software_Developer', 'Technical_writer',\n",
       "       'Civil_servant', 'Librarian', 'Economist', 'Flight_attendant',\n",
       "       'Architect', 'Designer', 'Physician', 'Financial_Analyst',\n",
       "       'Air_traffic_controller', 'Politician', 'Police_officer', 'Artist',\n",
       "       'Surveyor', 'Design_Engineer', 'Chemical_engineer',\n",
       "       'Hotel_Manager', 'Dentist', 'Comedian', 'Biomedical_Engineer',\n",
       "       'Graphic_Designer', 'Computer_hardware_engineer',\n",
       "       'Petroleum_Engineer', 'Secretary', 'Computer_operator',\n",
       "       'Chartered_Accountant', 'Technician', 'Microbiologist',\n",
       "       'Fashion_Designer', 'Aviator', 'Psychologist', 'Magistrate',\n",
       "       'Lawyer', 'Firefighter', 'Engineer', 'Official', 'Analyst',\n",
       "       'Geologist', 'Drafter', 'Statistician', 'Web_designer',\n",
       "       'Consultant', 'Chef', 'Army_officer', 'Surgeon', 'Scientist',\n",
       "       'Civil_engineer', 'Industrial_Engineer', 'Technology_specialist'],\n",
       "      dtype=object)"
      ]
     },
     "execution_count": 32,
     "metadata": {},
     "output_type": "execute_result"
    }
   ],
   "source": [
    "train.profession.unique()"
   ]
  },
  {
   "cell_type": "code",
   "execution_count": 34,
   "id": "driving-request",
   "metadata": {},
   "outputs": [
    {
     "name": "stdout",
     "output_type": "stream",
     "text": [
      "West Bengal\n",
      "Tamil Nadu\n",
      "Andhra Pradesh\n",
      "Madhya Pradesh\n",
      "Uttar Pradesh\n",
      "Uttar Pradesh[5]\n",
      "Jammu and Kashmir\n",
      "Himachal Pradesh\n"
     ]
    }
   ],
   "source": [
    "for p in test.state.unique():\n",
    "    if p not in train.state.unique():\n",
    "        print(p)"
   ]
  },
  {
   "cell_type": "code",
   "execution_count": 35,
   "id": "worldwide-cleaners",
   "metadata": {},
   "outputs": [
    {
     "data": {
      "text/plain": [
       "array(['West Bengal', 'Maharashtra', 'Jharkhand', 'Tamil Nadu', 'Haryana',\n",
       "       'Gujarat', 'Andhra Pradesh', 'Bihar', 'Madhya Pradesh',\n",
       "       'Chhattisgarh', 'Assam', 'Uttar Pradesh', 'Karnataka', 'Rajasthan',\n",
       "       'Telangana', 'Uttar Pradesh[5]', 'Jammu and Kashmir', 'Odisha',\n",
       "       'Uttarakhand', 'Punjab', 'Puducherry', 'Himachal Pradesh',\n",
       "       'Chandigarh', 'Mizoram', 'Tripura', 'Delhi', 'Kerala', 'Sikkim',\n",
       "       'Manipur'], dtype=object)"
      ]
     },
     "execution_count": 35,
     "metadata": {},
     "output_type": "execute_result"
    }
   ],
   "source": [
    "test.state.unique()"
   ]
  },
  {
   "cell_type": "code",
   "execution_count": 36,
   "id": "norwegian-secretariat",
   "metadata": {},
   "outputs": [
    {
     "data": {
      "text/plain": [
       "array(['Madhya_Pradesh', 'Maharashtra', 'Kerala', 'Odisha', 'Tamil_Nadu',\n",
       "       'Gujarat', 'Rajasthan', 'Telangana', 'Bihar', 'Andhra_Pradesh',\n",
       "       'West_Bengal', 'Haryana', 'Puducherry', 'Karnataka',\n",
       "       'Uttar_Pradesh', 'Himachal_Pradesh', 'Punjab', 'Tripura',\n",
       "       'Uttarakhand', 'Jharkhand', 'Mizoram', 'Assam',\n",
       "       'Jammu_and_Kashmir', 'Delhi', 'Chhattisgarh', 'Chandigarh',\n",
       "       'Uttar_Pradesh[5]', 'Manipur', 'Sikkim'], dtype=object)"
      ]
     },
     "execution_count": 36,
     "metadata": {},
     "output_type": "execute_result"
    }
   ],
   "source": [
    "train.state.unique()"
   ]
  },
  {
   "cell_type": "code",
   "execution_count": 40,
   "id": "civil-planning",
   "metadata": {},
   "outputs": [],
   "source": [
    "for p in test.city.unique():\n",
    "    p = p.replace(' ', '_')\n",
    "    if p not in train.city.unique():\n",
    "        print(p)"
   ]
  },
  {
   "cell_type": "code",
   "execution_count": 6,
   "id": "exotic-municipality",
   "metadata": {},
   "outputs": [
    {
     "data": {
      "text/plain": [
       "11    51873\n",
       "12    51791\n",
       "13    50659\n",
       "14    49003\n",
       "10    48674\n",
       "Name: current_house_years, dtype: int64"
      ]
     },
     "execution_count": 6,
     "metadata": {},
     "output_type": "execute_result"
    }
   ],
   "source": [
    "train.current_house_years.value_counts()"
   ]
  },
  {
   "cell_type": "code",
   "execution_count": 4,
   "id": "metallic-coordinator",
   "metadata": {},
   "outputs": [
    {
     "data": {
      "text/plain": [
       "Vijayanagaram       1259\n",
       "Bhopal              1208\n",
       "Bulandshahr         1185\n",
       "Saharsa[29]         1180\n",
       "Vijayawada          1172\n",
       "                    ... \n",
       "Ujjain               486\n",
       "Warangal[11][12]     459\n",
       "Bettiah[33]          457\n",
       "Katni                448\n",
       "Karaikudi            431\n",
       "Name: city, Length: 317, dtype: int64"
      ]
     },
     "execution_count": 4,
     "metadata": {},
     "output_type": "execute_result"
    }
   ],
   "source": [
    "train.city.value_counts()"
   ]
  },
  {
   "cell_type": "code",
   "execution_count": 10,
   "id": "annual-rally",
   "metadata": {},
   "outputs": [],
   "source": [
    "cities = train.city.unique()\n",
    "city_prob = {}\n",
    "for city in cities:\n",
    "#     print(city)\n",
    "    sub = train[train['city'] ==  city]\n",
    "    if city not in city_prob:\n",
    "        city_prob[city] = 0\n",
    "    city_prob[city] = sub[sub.risk_flag == 1].shape[0] / sub[sub.risk_flag == 0].shape[0]\n",
    "#     print(sub[sub.risk_flag == 1].shape[0] / sub[sub.risk_flag == 0].shape[0])"
   ]
  },
  {
   "cell_type": "code",
   "execution_count": 11,
   "id": "convinced-traffic",
   "metadata": {},
   "outputs": [
    {
     "data": {
      "text/plain": [
       "{'Rewa': 0.1383737517831669,\n",
       " 'Parbhani': 0.1395973154362416,\n",
       " 'Alappuzha': 0.1505016722408027,\n",
       " 'Bhubaneswar': 0.4841075794621027,\n",
       " 'Tiruchirappalli[10]': 0.13783403656821377,\n",
       " 'Jalgaon': 0.10723514211886305,\n",
       " 'Tiruppur': 0.07751937984496124,\n",
       " 'Jamnagar': 0.09390862944162437,\n",
       " 'Kota[6]': 0.164021164021164,\n",
       " 'Karimnagar': 0.09144542772861357,\n",
       " 'Hajipur[31]': 0.14613778705636743,\n",
       " 'Adoni': 0.12117647058823529,\n",
       " 'Erode[17]': 0.11530398322851153,\n",
       " 'Kollam': 0.15062111801242237,\n",
       " 'Madurai': 0.13834586466165413,\n",
       " 'Anantapuram[24]': 0.09110867178924259,\n",
       " 'Kamarhati': 0.21473354231974923,\n",
       " 'Bhusawal': 0.20477815699658702,\n",
       " 'Sirsa': 0.12738853503184713,\n",
       " 'Amaravati': 0.06870229007633588,\n",
       " 'Secunderabad': 0.14392523364485982,\n",
       " 'Ahmedabad': 0.25775193798449614,\n",
       " 'Ajmer': 0.16106442577030813,\n",
       " 'Ongole': 0.11962224554039874,\n",
       " 'Miryalaguda': 0.17318435754189945,\n",
       " 'Ambattur': 0.13675213675213677,\n",
       " 'Indore': 0.23093681917211328,\n",
       " 'Pondicherry': 0.09791921664626684,\n",
       " 'Shimoga': 0.07510431154381085,\n",
       " 'Chennai': 0.15370018975332067,\n",
       " 'Gulbarga': 0.0814419225634179,\n",
       " 'Khammam': 0.0846233230134159,\n",
       " 'Saharanpur': 0.1676470588235294,\n",
       " 'Gopalpur': 0.15262321144674085,\n",
       " 'Amravati': 0.19309262166405022,\n",
       " 'Udupi': 0.19895287958115182,\n",
       " 'Howrah': 0.1967020023557126,\n",
       " 'Aurangabad[39]': 0.09597523219814241,\n",
       " 'Hospet': 0.12195121951219512,\n",
       " 'Shimla': 0.15373961218836565,\n",
       " 'Khandwa': 0.18992248062015504,\n",
       " 'Bidhannagar': 0.21672555948174324,\n",
       " 'Bellary': 0.07358870967741936,\n",
       " 'Danapur': 0.19058553386911595,\n",
       " 'Purnia[26]': 0.31382978723404253,\n",
       " 'Bijapur': 0.036231884057971016,\n",
       " 'Patiala': 0.09033280507131537,\n",
       " 'Malda': 0.12647754137115838,\n",
       " 'Sagar': 0.13924050632911392,\n",
       " 'Durgapur': 0.09898477157360407,\n",
       " 'Junagadh': 0.14605067064083457,\n",
       " 'Singrauli': 0.13245033112582782,\n",
       " 'Agartala': 0.20208023774145617,\n",
       " 'Thanjavur': 0.11197339246119734,\n",
       " 'Hindupur': 0.11419249592169657,\n",
       " 'Naihati': 0.09578544061302682,\n",
       " 'North_Dumdum': 0.22488038277511962,\n",
       " 'Panchkula': 0.12028725314183124,\n",
       " 'Anantapur': 0.0903954802259887,\n",
       " 'Serampore': 0.14953271028037382,\n",
       " 'Bathinda': 0.0946822308690013,\n",
       " 'Nadiad': 0.1214017521902378,\n",
       " 'Kanpur': 0.14987405541561713,\n",
       " 'Haridwar': 0.12345679012345678,\n",
       " 'Berhampur': 0.044293015332197615,\n",
       " 'Jamshedpur': 0.11967213114754098,\n",
       " 'Hyderabad': 0.18706293706293706,\n",
       " 'Bidar': 0.11818181818181818,\n",
       " 'Kottayam': 0.29093799682034976,\n",
       " 'Solapur': 0.1383737517831669,\n",
       " 'Suryapet': 0.19440914866581957,\n",
       " 'Aizawl': 0.12450331125827814,\n",
       " 'Asansol': 0.11734693877551021,\n",
       " 'Deoghar': 0.1374133949191686,\n",
       " 'Eluru[25]': 0.06872852233676977,\n",
       " 'Ulhasnagar': 0.17146282973621102,\n",
       " 'Aligarh': 0.13793103448275862,\n",
       " 'South_Dumdum': 0.06503067484662577,\n",
       " 'Berhampore': 0.1738484398216939,\n",
       " 'Gandhinagar': 0.026813880126182965,\n",
       " 'Sonipat': 0.1890547263681592,\n",
       " 'Muzaffarpur': 0.08926080892608089,\n",
       " 'Raichur': 0.05874125874125874,\n",
       " 'Rajpur_Sonarpur': 0.040106951871657755,\n",
       " 'Ambarnath': 0.13788659793814434,\n",
       " 'Katihar': 0.14781491002570693,\n",
       " 'Kozhikode': 0.06725146198830409,\n",
       " 'Vellore': 0.07891637220259129,\n",
       " 'Malegaon': 0.0688360450563204,\n",
       " 'Kochi': 0.3384401114206128,\n",
       " 'Nagaon': 0.18507890961262555,\n",
       " 'Nagpur': 0.21026490066225165,\n",
       " 'Srinagar': 0.23478260869565218,\n",
       " 'Davanagere': 0.22646657571623466,\n",
       " 'Bhagalpur': 0.05674653215636822,\n",
       " 'Siwan[32]': 0.12630208333333334,\n",
       " 'Meerut': 0.1152542372881356,\n",
       " 'Dindigul': 0.19400630914826497,\n",
       " 'Bhatpara': 0.13606340819022458,\n",
       " 'Ghaziabad': 0.26379542395693134,\n",
       " 'Kulti': 0.14779499404052443,\n",
       " 'Chapra': 0.16480793060718713,\n",
       " 'Dibrugarh': 0.11609195402298851,\n",
       " 'Panihati': 0.04886769964243146,\n",
       " 'Bhiwandi': 0.17383512544802868,\n",
       " 'Morbi': 0.15315315315315314,\n",
       " 'Kalyan-Dombivli': 0.09453471196454949,\n",
       " 'Gorakhpur': 0.20474406991260924,\n",
       " 'Panvel': 0.16978193146417445,\n",
       " 'Siliguri': 0.11835748792270531,\n",
       " 'Bongaigaon': 0.1122754491017964,\n",
       " 'Patna': 0.15384615384615385,\n",
       " 'Ramgarh': 0.1,\n",
       " 'Ozhukarai': 0.19376391982182628,\n",
       " 'Mirzapur': 0.1296875,\n",
       " 'Akola': 0.09728183118741059,\n",
       " 'Satna': 0.2914572864321608,\n",
       " 'Motihari[34]': 0.12456140350877193,\n",
       " 'Jalna': 0.12164073550212164,\n",
       " 'Jalandhar': 0.10201342281879194,\n",
       " 'Unnao': 0.07885304659498207,\n",
       " 'Karnal': 0.07853403141361257,\n",
       " 'Cuttack': 0.16310160427807488,\n",
       " 'Proddatur': 0.13833528722157093,\n",
       " 'Ichalkaranji': 0.19554848966613672,\n",
       " 'Warangal[11][12]': 0.0576036866359447,\n",
       " 'Jhansi': 0.16319018404907976,\n",
       " 'Bulandshahr': 0.11687087653157399,\n",
       " 'Narasaraopet': 0.18344519015659955,\n",
       " 'Chinsurah': 0.07620320855614973,\n",
       " 'Jehanabad[38]': 0.19039735099337748,\n",
       " 'Dhanbad': 0.12283737024221453,\n",
       " 'Gudivada': 0.17702448210922786,\n",
       " 'Gandhidham': 0.27627118644067794,\n",
       " 'Raiganj': 0.315018315018315,\n",
       " 'Kishanganj[35]': 0.07989690721649484,\n",
       " 'Varanasi': 0.22099447513812154,\n",
       " 'Belgaum': 0.043478260869565216,\n",
       " 'Tirupati[21][22]': 0.13797814207650272,\n",
       " 'Tumkur': 0.08885754583921016,\n",
       " 'Coimbatore': 0.1503267973856209,\n",
       " 'Kurnool[18]': 0.15081967213114755,\n",
       " 'Gurgaon': 0.119281045751634,\n",
       " 'Muzaffarnagar': 0.2627599243856333,\n",
       " 'Aurangabad': 0.09724047306176084,\n",
       " 'Bhavnagar': 0.167989417989418,\n",
       " 'Arrah': 0.06666666666666667,\n",
       " 'Munger': 0.2573099415204678,\n",
       " 'Tirunelveli': 0.07084468664850137,\n",
       " 'Mumbai': 0.15761821366024517,\n",
       " 'Mango': 0.24509803921568626,\n",
       " 'Nashik': 0.1349527665317139,\n",
       " 'Kadapa[23]': 0.14468085106382977,\n",
       " 'Amritsar': 0.06881405563689605,\n",
       " 'Khora,_Ghaziabad': 0.06595995288574794,\n",
       " 'Ambala': 0.17933130699088146,\n",
       " 'Agra': 0.08700322234156821,\n",
       " 'Ratlam': 0.23756906077348067,\n",
       " 'Surendranagar_Dudhrej': 0.15,\n",
       " 'Delhi_city': 0.18253968253968253,\n",
       " 'Bhopal': 0.15930902111324377,\n",
       " 'Hapur': 0.0949367088607595,\n",
       " 'Rohtak': 0.08548707753479125,\n",
       " 'Durg': 0.14511494252873564,\n",
       " 'Korba': 0.09688581314878893,\n",
       " 'Bangalore': 0.03857142857142857,\n",
       " 'Shivpuri': 0.08274231678486997,\n",
       " 'Thrissur': 0.1514792899408284,\n",
       " 'Vijayanagaram': 0.13423423423423422,\n",
       " 'Farrukhabad': 0.06717226435536294,\n",
       " 'Nangloi_Jat': 0.2039355992844365,\n",
       " 'Madanapalle': 0.11384217335058215,\n",
       " 'Thoothukudi': 0.12379807692307693,\n",
       " 'Nagercoil': 0.14210526315789473,\n",
       " 'Gaya': 0.20810313075506445,\n",
       " 'Chandigarh_city': 0.10252100840336134,\n",
       " 'Jammu[16]': 0.11611785095320624,\n",
       " 'Kakinada': 0.1738382099827883,\n",
       " 'Dewas': 0.20297951582867785,\n",
       " 'Bhalswa_Jahangir_Pur': 0.07336343115124154,\n",
       " 'Baranagar': 0.12379807692307693,\n",
       " 'Firozabad': 0.15746753246753248,\n",
       " 'Phusro': 0.17164179104477612,\n",
       " 'Allahabad': 0.15015479876160992,\n",
       " 'Guna': 0.14192708333333334,\n",
       " 'Thane': 0.07845303867403315,\n",
       " 'Etawah': 0.17590822179732313,\n",
       " 'Vasai-Virar': 0.1467324290998767,\n",
       " 'Pallavaram': 0.12072892938496584,\n",
       " 'Morena': 0.17055393586005832,\n",
       " 'Ballia': 0.11859838274932614,\n",
       " 'Surat': 0.11228070175438597,\n",
       " 'Burhanpur': 0.17198335644937587,\n",
       " 'Phagwara': 0.12371134020618557,\n",
       " 'Mau': 0.10167130919220056,\n",
       " 'Mangalore': 0.12813370473537605,\n",
       " 'Alwar': 0.1509433962264151,\n",
       " 'Mahbubnagar': 0.1234718826405868,\n",
       " 'Maheshtala': 0.19966442953020133,\n",
       " 'Hazaribagh': 0.25327510917030566,\n",
       " 'Bihar_Sharif': 0.1010989010989011,\n",
       " 'Faridabad': 0.16666666666666666,\n",
       " 'Lucknow': 0.06611570247933884,\n",
       " 'Tenali': 0.11932773109243698,\n",
       " 'Barasat': 0.3135464231354642,\n",
       " 'Amroha': 0.07142857142857142,\n",
       " 'Giridih': 0.14408602150537633,\n",
       " 'Begusarai': 0.13567073170731708,\n",
       " 'Medininagar': 0.08414634146341464,\n",
       " 'Rajahmundry[19][20]': 0.19839679358717435,\n",
       " 'Saharsa[29]': 0.10590440487347703,\n",
       " 'New_Delhi': 0.072265625,\n",
       " 'Bhilai': 0.16493506493506493,\n",
       " 'Moradabad': 0.2372549019607843,\n",
       " 'Machilipatnam': 0.1335149863760218,\n",
       " 'Mira-Bhayandar': 0.04017857142857143,\n",
       " 'Pali': 0.1894353369763206,\n",
       " 'Navi_Mumbai': 0.154419595314164,\n",
       " 'Mehsana': 0.0407673860911271,\n",
       " 'Imphal': 0.2747747747747748,\n",
       " 'Kolkata': 0.08851422550052687,\n",
       " 'Sambalpur': 0.1361323155216285,\n",
       " 'Ujjain': 0.208955223880597,\n",
       " 'Madhyamgram': 0.13884555382215288,\n",
       " 'Jabalpur': 0.16986301369863013,\n",
       " 'Jamalpur[36]': 0.1254180602006689,\n",
       " 'Ludhiana': 0.11195928753180662,\n",
       " 'Bareilly': 0.04435483870967742,\n",
       " 'Gangtok': 0.04827586206896552,\n",
       " 'Anand': 0.11576354679802955,\n",
       " 'Dehradun': 0.027058823529411764,\n",
       " 'Pune': 0.10433763188745604,\n",
       " 'Satara': 0.10483870967741936,\n",
       " 'Srikakulam': 0.08823529411764706,\n",
       " 'Raipur': 0.2005856515373353,\n",
       " 'Jodhpur': 0.08418891170431211,\n",
       " 'Darbhanga': 0.16059379217273953,\n",
       " 'Nizamabad': 0.2087912087912088,\n",
       " 'Nandyal': 0.10135970333745364,\n",
       " 'Dehri[30]': 0.19622093023255813,\n",
       " 'Jorhat': 0.1527777777777778,\n",
       " 'Ranchi': 0.1672077922077922,\n",
       " 'Kumbakonam': 0.0653950953678474,\n",
       " 'Guntakal': 0.10318949343339587,\n",
       " 'Haldia': 0.2140221402214022,\n",
       " 'Loni': 0.09227467811158799,\n",
       " 'Pimpri-Chinchwad': 0.07210401891252956,\n",
       " 'Rajkot': 0.13004484304932734,\n",
       " 'Nanded': 0.14779499404052443,\n",
       " 'Noida': 0.05652173913043478,\n",
       " 'Kirari_Suleman_Nagar': 0.1409295352323838,\n",
       " 'Jaunpur': 0.16566265060240964,\n",
       " 'Bilaspur': 0.15100671140939598,\n",
       " 'Sambhal': 0.20239880059970014,\n",
       " 'Dhule': 0.19142419601837674,\n",
       " 'Rourkela': 0.1201923076923077,\n",
       " 'Thiruvananthapuram': 0.25523012552301255,\n",
       " 'Dharmavaram': 0.10810810810810811,\n",
       " 'Nellore[14][15]': 0.09415584415584416,\n",
       " 'Visakhapatnam[4]': 0.16987951807228915,\n",
       " 'Karawal_Nagar': 0.15274151436031333,\n",
       " 'Jaipur': 0.16522811344019728,\n",
       " 'Avadi': 0.1681260945709282,\n",
       " 'Bhimavaram': 0.09782608695652174,\n",
       " 'Bardhaman': 0.28066914498141265,\n",
       " 'Silchar': 0.13507109004739337,\n",
       " 'Buxar[37]': 0.3011889035667107,\n",
       " 'Kavali': 0.2904238618524333,\n",
       " 'Tezpur': 0.1646586345381526,\n",
       " 'Ramagundam[27]': 0.2633390705679862,\n",
       " 'Yamunanagar': 0.1705150976909414,\n",
       " 'Sri_Ganganagar': 0.236,\n",
       " 'Sasaram[30]': 0.07668711656441718,\n",
       " 'Sikar': 0.31311475409836065,\n",
       " 'Bally': 0.07582938388625593,\n",
       " 'Bhiwani': 0.09375,\n",
       " 'Rampur': 0.1134020618556701,\n",
       " 'Uluberia': 0.13100436681222707,\n",
       " 'Sangli-Miraj_&_Kupwad': 0.10172413793103448,\n",
       " 'Hosur': 0.05351170568561873,\n",
       " 'Bikaner': 0.102803738317757,\n",
       " 'Shahjahanpur': 0.2366255144032922,\n",
       " 'Sultan_Pur_Majra': 0.03529411764705882,\n",
       " 'Vijayawada': 0.14341463414634145,\n",
       " 'Bharatpur': 0.10741687979539642,\n",
       " 'Tadepalligudem': 0.1501766784452297,\n",
       " 'Tinsukia': 0.2239221140472879,\n",
       " 'Salem': 0.16507936507936508,\n",
       " 'Mathura': 0.25524475524475526,\n",
       " 'Guntur[13]': 0.24804992199687986,\n",
       " 'Hubliâ€“Dharwad': 0.16375545851528384,\n",
       " 'Guwahati': 0.12903225806451613,\n",
       " 'Chittoor[28]': 0.13192182410423453,\n",
       " 'Tiruvottiyur': 0.06695156695156695,\n",
       " 'Vadodara': 0.1497005988023952,\n",
       " 'Ahmednagar': 0.06260296540362438,\n",
       " 'Fatehpur': 0.11317829457364341,\n",
       " 'Bhilwara': 0.14350453172205438,\n",
       " 'Kharagpur': 0.1321656050955414,\n",
       " 'Bettiah[33]': 0.3641791044776119,\n",
       " 'Bhind': 0.21760797342192692,\n",
       " 'Bokaro': 0.13344887348353554,\n",
       " 'Karaikudi': 0.06683168316831684,\n",
       " 'Raebareli': 0.13601036269430053,\n",
       " 'Pudukkottai': 0.1012311901504788,\n",
       " 'Udaipur': 0.2392638036809816,\n",
       " 'Mysore[7][8][9]': 0.2829861111111111,\n",
       " 'Panipat': 0.21514629948364888,\n",
       " 'Latur': 0.04129263913824058,\n",
       " 'Tadipatri': 0.052313883299798795,\n",
       " 'Bahraich': 0.1658653846153846,\n",
       " 'Orai': 0.06302021403091558,\n",
       " 'Raurkela_Industrial_Township': 0.1619047619047619,\n",
       " 'Gwalior': 0.375,\n",
       " 'Katni': 0.04918032786885246,\n",
       " 'Chandrapur': 0.20531400966183574,\n",
       " 'Kolhapur': 0.0985663082437276}"
      ]
     },
     "execution_count": 11,
     "metadata": {},
     "output_type": "execute_result"
    }
   ],
   "source": [
    "city_prob"
   ]
  },
  {
   "cell_type": "code",
   "execution_count": null,
   "id": "swiss-argument",
   "metadata": {},
   "outputs": [],
   "source": []
  }
 ],
 "metadata": {
  "kernelspec": {
   "display_name": "Python 3",
   "language": "python",
   "name": "python3"
  },
  "language_info": {
   "codemirror_mode": {
    "name": "ipython",
    "version": 3
   },
   "file_extension": ".py",
   "mimetype": "text/x-python",
   "name": "python",
   "nbconvert_exporter": "python",
   "pygments_lexer": "ipython3",
   "version": "3.8.5"
  }
 },
 "nbformat": 4,
 "nbformat_minor": 5
}
